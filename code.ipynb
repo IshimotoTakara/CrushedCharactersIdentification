{
  "nbformat": 4,
  "nbformat_minor": 0,
  "metadata": {
    "colab": {
      "name": "code.ipynb",
      "provenance": [],
      "authorship_tag": "ABX9TyNJzG7iLkSy/FxN4r+c1csi",
      "include_colab_link": true
    },
    "kernelspec": {
      "name": "python3",
      "display_name": "Python 3"
    },
    "language_info": {
      "name": "python"
    }
  },
  "cells": [
    {
      "cell_type": "markdown",
      "metadata": {
        "id": "view-in-github",
        "colab_type": "text"
      },
      "source": [
        "<a href=\"https://colab.research.google.com/github/IshimotoTakara/CrushedCharactersIdentification/blob/main/code.ipynb\" target=\"_parent\"><img src=\"https://colab.research.google.com/assets/colab-badge.svg\" alt=\"Open In Colab\"/></a>"
      ]
    },
    {
      "cell_type": "markdown",
      "metadata": {
        "id": "PPb20WRnSs6x"
      },
      "source": [
        "# 「くずし字」識別チャレンジ\n",
        "画像データを扱う練習として，日本で古くから使われていた「くずし字」を識別しよう．くずし字のクラスは10種類あるため，多クラス分類モデルを作成します．"
      ]
    },
    {
      "cell_type": "code",
      "metadata": {
        "colab": {
          "base_uri": "https://localhost:8080/"
        },
        "id": "FpEAsMIBTLvY",
        "outputId": "85db5072-a710-4034-8266-e751f35ee089"
      },
      "source": [
        "# Google Driveをマウントする\n",
        "from google.colab import drive\n",
        "drive.mount('/content/drive')"
      ],
      "execution_count": 3,
      "outputs": [
        {
          "output_type": "stream",
          "text": [
            "Mounted at /content/drive\n"
          ],
          "name": "stdout"
        }
      ]
    },
    {
      "cell_type": "markdown",
      "metadata": {
        "id": "Iul_7BllSlCL"
      },
      "source": [
        "# データの読み込み\n",
        "各くずし字の画像データは，28×28の大きさで，グレースケールの画像データ．\n",
        "\n",
        "くずし字の種類は，10種類で，お(o)，き(ki)，す(su)，つ(tsu)，な(na)，は(ha)，ま(ma)，や(ya)，れ(re)，を(wo)の10文字が含まれている．\n",
        "\n",
        "データ数は，訓練データが60000枚(それぞれの字で6,000枚)，テストデータが10000枚(それぞれの字で1,000枚)の計70000枚．"
      ]
    },
    {
      "cell_type": "code",
      "metadata": {
        "id": "F6LZy3XPSjnd"
      },
      "source": [
        "import numpy as np\n",
        "import os\n",
        "\n",
        "class KMNISTDataLoader(object):\n",
        "    def __init__(self, validation_size: float):\n",
        "        \"\"\"\n",
        "        validation_size : float\n",
        "        [0., 1.]\n",
        "        ratio of validation data\n",
        "        \"\"\"\n",
        "        self._basename_list = [\n",
        "        'kmnist-train-imgs.npz',\\\n",
        "        'kmnist-train-labels.npz'\n",
        "        ]\n",
        "        self.validation_size = validation_size\n",
        "\n",
        "    def load(self, datapath: str, random_seed: int=13) -> np.ndarray:\n",
        "        filenames_list = self._make_filenames(datapath)\n",
        "        data_list = [np.load(filename)['arr_0'] for filename in filenames_list]\n",
        "\n",
        "        all_imgs, all_lbls = data_list\n",
        "\n",
        "        # shuffle data\n",
        "        np.random.seed(random_seed)\n",
        "        perm_idx = np.random.permutation(len(all_imgs))\n",
        "        all_imgs = all_imgs[perm_idx]\n",
        "        all_lbls = all_lbls[perm_idx]\n",
        "\n",
        "        # split train and validation\n",
        "        validation_num = int(len(all_lbls)*self.validation_size)\n",
        "\n",
        "        validation_imgs = all_imgs[:validation_num]\n",
        "        validation_lbls = all_lbls[:validation_num]\n",
        "\n",
        "        train_imgs = all_imgs[validation_num:]\n",
        "        train_lbls = all_lbls[validation_num:]\n",
        "\n",
        "        return train_imgs, train_lbls, validation_imgs, validation_lbls\n",
        "\n",
        "    def _make_filenames(self, datapath: str) -> list:\n",
        "        filenames_list = [os.path.join(datapath, basename) for basename in self._basename_list]\n",
        "        return filenames_list\n",
        "\n",
        "datapath = \"/content/drive/MyDrive/九工大/研究室/DataScience/CrushedCharactersIdentification/data/input\"\n",
        "validation_size = 0.2 # テストデータの比率を指定（２割のデータをテストデートとして扱う）\n",
        "train_imgs, train_lbls, validation_imgs, validation_lbls = KMNISTDataLoader(validation_size).load(datapath)"
      ],
      "execution_count": 112,
      "outputs": []
    },
    {
      "cell_type": "markdown",
      "metadata": {
        "id": "Swb6wjkgTjXL"
      },
      "source": [
        "# データの確認"
      ]
    },
    {
      "cell_type": "code",
      "metadata": {
        "id": "ISrdk1uk3MqL",
        "outputId": "9a7d42ef-238d-4ab9-c12d-e887183d2fbe",
        "colab": {
          "base_uri": "https://localhost:8080/",
          "height": 353
        }
      },
      "source": [
        "print('訓練データ：', train_imgs.shape)\n",
        "print('検証用データ：', validation_imgs.shape)\n",
        "print('ラベルの範囲：', train_lbls.min(), '-', train_lbls.max())\n",
        "print('ラベルの種類：', np.unique(train_lbls))\n",
        "\n",
        "import seaborn as sns\n",
        "\n",
        "sns.set()\n",
        "sns.set_style('whitegrid')\n",
        "sns.set_palette('gray')\n",
        "\n",
        "train_labels = np.load(\"/content/drive/MyDrive/九工大/研究室/DataScience/CrushedCharactersIdentification/data/input/kmnist-train-labels.npz\")['arr_0']\n",
        "\n",
        "fig = plt.figure()\n",
        "ax = fig.add_subplot(1, 1, 1)\n",
        "ax.hist(train_labels)\n",
        "ax.set_xlabel('label')\n",
        "plt.show()"
      ],
      "execution_count": 138,
      "outputs": [
        {
          "output_type": "stream",
          "text": [
            "訓練データ： (48000, 28, 28, 1, 1)\n",
            "検証用データ： (12000, 28, 28, 1, 1)\n",
            "ラベルの範囲： 0 - 9\n",
            "ラベルの種類： [0 1 2 3 4 5 6 7 8 9]\n"
          ],
          "name": "stdout"
        },
        {
          "output_type": "display_data",
          "data": {
            "image/png": "[encoded data removed]",
            "text/plain": [
              "<Figure size 432x288 with 1 Axes>"
            ]
          },
          "metadata": {
            "tags": []
          }
        }
      ]
    },
    {
      "cell_type": "code",
      "metadata": {
        "colab": {
          "base_uri": "https://localhost:8080/",
          "height": 1000
        },
        "id": "llXTtb9VTiZO",
        "outputId": "7c38d411-bcbe-4d63-ab84-a819d7b6b371"
      },
      "source": [
        "import numpy as np\n",
        "import matplotlib.pyplot as plt\n",
        "\n",
        "class RandomPlotter(object):\n",
        "    def __init__(self):\n",
        "        self.label_char = [\"お(o)\", \"き(ki)\", \"す(su)\", \"つ(tsu)\",\\\n",
        "                           \"な(na)\", \"は(ha)\", \"ま(ma)\", \"や(ya)\",\\\n",
        "                           \"れ(re)\", \"を(wo)\"]\n",
        "        plt.rcParams['font.family'] = 'IPAPGothic'\n",
        "\n",
        "    def _get_unique_labels(self, labels: np.ndarray) -> np.ndarray:\n",
        "        label_unique = np.sort(np.unique(labels))\n",
        "        return label_unique\n",
        "\n",
        "    def _get_random_idx_list(self, labels: np.ndarray) -> list:\n",
        "        label_unique = self._get_unique_labels(labels)\n",
        "\n",
        "        random_idx_list = []\n",
        "        for label in label_unique:\n",
        "            label_indices = np.where(labels == label)[0]\n",
        "            random_idx = np.random.choice(label_indices)\n",
        "            random_idx_list.append(random_idx)\n",
        "\n",
        "        return random_idx_list\n",
        "\n",
        "    def plot(self, images: np.ndarray, labels: np.ndarray) -> None:\n",
        "        \"\"\"\n",
        "        Parameters\n",
        "        ----------\n",
        "        images : np.ndarray\n",
        "        train_imgs or validation_imgs\n",
        "\n",
        "        labels : np.ndarray\n",
        "        train_lbls or validation_lbls\n",
        "        \"\"\"\n",
        "        random_idx_list = self._get_random_idx_list(labels)\n",
        "\n",
        "        fig = plt.figure()\n",
        "        for i, idx in enumerate(random_idx_list):\n",
        "            ax = fig.add_subplot(2, 5, i+1)\n",
        "            ax.tick_params(labelbottom=False, bottom=False)\n",
        "            ax.tick_params(labelleft=False, left=False)\n",
        "            img = images[idx]\n",
        "            ax.imshow(img, cmap='gray')\n",
        "            ax.set_title(self.label_char[i])\n",
        "        fig.show()\n",
        "      \n",
        "RandomPlotter().plot(train_imgs, train_lbls)\n",
        "RandomPlotter().plot(validation_imgs, validation_lbls)"
      ],
      "execution_count": 114,
      "outputs": [
        {
          "output_type": "stream",
          "text": [
            "/usr/local/lib/python3.7/dist-packages/matplotlib/backends/backend_agg.py:214: RuntimeWarning: Glyph 12362 missing from current font.\n",
            "  font.set_text(s, 0.0, flags=flags)\n",
            "/usr/local/lib/python3.7/dist-packages/matplotlib/backends/backend_agg.py:183: RuntimeWarning: Glyph 12362 missing from current font.\n",
            "  font.set_text(s, 0, flags=flags)\n",
            "/usr/local/lib/python3.7/dist-packages/matplotlib/backends/backend_agg.py:214: RuntimeWarning: Glyph 12365 missing from current font.\n",
            "  font.set_text(s, 0.0, flags=flags)\n",
            "/usr/local/lib/python3.7/dist-packages/matplotlib/backends/backend_agg.py:183: RuntimeWarning: Glyph 12365 missing from current font.\n",
            "  font.set_text(s, 0, flags=flags)\n",
            "/usr/local/lib/python3.7/dist-packages/matplotlib/backends/backend_agg.py:214: RuntimeWarning: Glyph 12377 missing from current font.\n",
            "  font.set_text(s, 0.0, flags=flags)\n",
            "/usr/local/lib/python3.7/dist-packages/matplotlib/backends/backend_agg.py:183: RuntimeWarning: Glyph 12377 missing from current font.\n",
            "  font.set_text(s, 0, flags=flags)\n",
            "/usr/local/lib/python3.7/dist-packages/matplotlib/backends/backend_agg.py:214: RuntimeWarning: Glyph 12388 missing from current font.\n",
            "  font.set_text(s, 0.0, flags=flags)\n",
            "/usr/local/lib/python3.7/dist-packages/matplotlib/backends/backend_agg.py:183: RuntimeWarning: Glyph 12388 missing from current font.\n",
            "  font.set_text(s, 0, flags=flags)\n",
            "/usr/local/lib/python3.7/dist-packages/matplotlib/backends/backend_agg.py:214: RuntimeWarning: Glyph 12394 missing from current font.\n",
            "  font.set_text(s, 0.0, flags=flags)\n",
            "/usr/local/lib/python3.7/dist-packages/matplotlib/backends/backend_agg.py:183: RuntimeWarning: Glyph 12394 missing from current font.\n",
            "  font.set_text(s, 0, flags=flags)\n",
            "/usr/local/lib/python3.7/dist-packages/matplotlib/backends/backend_agg.py:214: RuntimeWarning: Glyph 12399 missing from current font.\n",
            "  font.set_text(s, 0.0, flags=flags)\n",
            "/usr/local/lib/python3.7/dist-packages/matplotlib/backends/backend_agg.py:183: RuntimeWarning: Glyph 12399 missing from current font.\n",
            "  font.set_text(s, 0, flags=flags)\n",
            "/usr/local/lib/python3.7/dist-packages/matplotlib/backends/backend_agg.py:214: RuntimeWarning: Glyph 12414 missing from current font.\n",
            "  font.set_text(s, 0.0, flags=flags)\n",
            "/usr/local/lib/python3.7/dist-packages/matplotlib/backends/backend_agg.py:183: RuntimeWarning: Glyph 12414 missing from current font.\n",
            "  font.set_text(s, 0, flags=flags)\n",
            "/usr/local/lib/python3.7/dist-packages/matplotlib/backends/backend_agg.py:214: RuntimeWarning: Glyph 12420 missing from current font.\n",
            "  font.set_text(s, 0.0, flags=flags)\n",
            "/usr/local/lib/python3.7/dist-packages/matplotlib/backends/backend_agg.py:183: RuntimeWarning: Glyph 12420 missing from current font.\n",
            "  font.set_text(s, 0, flags=flags)\n",
            "/usr/local/lib/python3.7/dist-packages/matplotlib/backends/backend_agg.py:214: RuntimeWarning: Glyph 12428 missing from current font.\n",
            "  font.set_text(s, 0.0, flags=flags)\n",
            "/usr/local/lib/python3.7/dist-packages/matplotlib/backends/backend_agg.py:183: RuntimeWarning: Glyph 12428 missing from current font.\n",
            "  font.set_text(s, 0, flags=flags)\n",
            "/usr/local/lib/python3.7/dist-packages/matplotlib/backends/backend_agg.py:214: RuntimeWarning: Glyph 12434 missing from current font.\n",
            "  font.set_text(s, 0.0, flags=flags)\n",
            "/usr/local/lib/python3.7/dist-packages/matplotlib/backends/backend_agg.py:183: RuntimeWarning: Glyph 12434 missing from current font.\n",
            "  font.set_text(s, 0, flags=flags)\n"
          ],
          "name": "stderr"
        },
        {
          "output_type": "display_data",
          "data": {
            "image/png": "[encoded data removed]",
            "text/plain": [
              "<Figure size 432x288 with 10 Axes>"
            ]
          },
          "metadata": {
            "tags": []
          }
        },
        {
          "output_type": "display_data",
          "data": {
            "image/png": "[encoded data removed]",
            "text/plain": [
              "<Figure size 432x288 with 10 Axes>"
            ]
          },
          "metadata": {
            "tags": []
          }
        }
      ]
    },
    {
      "cell_type": "markdown",
      "metadata": {
        "id": "8enAq1cKYxOT"
      },
      "source": [
        "# 前処理\n",
        "\n",
        "\n",
        "*   数値データの型をfloat32へキャスト\n",
        "*   画像のndarrayのshapeを(N, 28, 28)から(N, 28, 28, 1)にキャスト（Nは画像の枚数）\n",
        "*   値を[0, 255]から[0, 1]に標準化"
      ]
    },
    {
      "cell_type": "code",
      "metadata": {
        "id": "mk91ll9LZA9Y"
      },
      "source": [
        "import numpy as np\n",
        "from tensorflow.keras.utils import to_categorical\n",
        "\n",
        "class Preprocessor(object):\n",
        "    def transform(self, train_imgs, train_lbls, validation_imgs, validation_lbls):\n",
        "        train_imgs, validation_imgs = self._convert_imgs_dtypes(train_imgs, validation_imgs)\n",
        "        train_imgs, validation_imgs = self._convert_imgs_shape(train_imgs, validation_imgs)\n",
        "        train_imgs, validation_imgs = self._normalize(train_imgs, validation_imgs)\n",
        "\n",
        "        train_lbls, validation_lbls = self._to_categorical_labels(train_lbls, validation_lbls)\n",
        "        return train_imgs, train_lbls, validation_imgs, validation_lbls\n",
        "\n",
        "    def _convert_imgs_dtypes(self, train_imgs, validation_imgs):\n",
        "        _train_imgs = train_imgs.astype('float32')\n",
        "        _validation_imgs = validation_imgs.astype('float32')\n",
        "        return _train_imgs, _validation_imgs\n",
        "\n",
        "    def _convert_imgs_shape(self, train_imgs, validation_imgs):\n",
        "        _train_imgs = train_imgs[...,np.newaxis]\n",
        "        _validation_imgs = validation_imgs[...,np.newaxis]\n",
        "        return _train_imgs, _validation_imgs\n",
        "\n",
        "    def _normalize(self, train_imgs, validation_imgs):\n",
        "        _train_imgs = train_imgs / 255.0\n",
        "        _validation_imgs = validation_imgs / 255.0\n",
        "        return _train_imgs, _validation_imgs\n",
        "\n",
        "    def _to_categorical_labels(self, train_lbls, validation_lbls):\n",
        "        label_num = len(np.unique(train_lbls))\n",
        "        _train_lbls = to_categorical(train_lbls, label_num)\n",
        "        _validation_lbls = to_categorical(validation_lbls, label_num)\n",
        "        return _train_lbls, _validation_lbls\n",
        "\n",
        "train_imgs, train_lbls, validation_imgs, validation_lbls = Preprocessor().transform(train_imgs, train_lbls, validation_imgs, validation_lbls)"
      ],
      "execution_count": 123,
      "outputs": []
    },
    {
      "cell_type": "markdown",
      "metadata": {
        "id": "ufWAKy8lZ-zZ"
      },
      "source": [
        "# kerasを用いて簡易なCNNを作成して識別"
      ]
    },
    {
      "cell_type": "code",
      "metadata": {
        "colab": {
          "base_uri": "https://localhost:8080/"
        },
        "id": "HdUnHX1oZ-T2",
        "outputId": "df66a4cb-90c0-4ee8-e2fb-7514c3b6b2cf"
      },
      "source": [
        "import tensorflow as tf\n",
        "from tensorflow import keras\n",
        "from tensorflow.keras.models import Sequential\n",
        "from tensorflow.keras import layers\n",
        "from tensorflow.keras import backend as K\n",
        "\n",
        "# dataの準備\n",
        "train_imgs, train_lbls, validation_imgs, validation_lbls = KMNISTDataLoader(validation_size).load(datapath)\n",
        "\n",
        "train_imgs, train_lbls, validation_imgs, validation_lbls = Preprocessor().transform(train_imgs, train_lbls, validation_imgs, validation_lbls)\n",
        "\n",
        "# modelの設定\n",
        "batch_size = 128\n",
        "label_num = 10\n",
        "epochs = 5\n",
        "input_shape = (28, 28, 1)\n",
        "\n",
        "\n",
        "# model作成\n",
        "model = Sequential()\n",
        "\n",
        "model.add(layers.Conv2D(32, kernel_size=(3, 3),\\\n",
        "activation='relu',\\\n",
        "input_shape=input_shape))\n",
        "model.add(layers.MaxPooling2D(pool_size=(2, 2)))\n",
        "model.add(layers.Dropout(0.25))\n",
        "\n",
        "model.add(layers.Conv2D(64, kernel_size=(3, 3),\\\n",
        "activation='relu'))\n",
        "model.add(layers.MaxPooling2D(pool_size=(2, 2)))\n",
        "model.add(layers.Dropout(0.4))\n",
        "\n",
        "model.add(layers.Flatten())\n",
        "model.add(layers.Dense(128, activation='relu'))\n",
        "model.add(layers.Dense(label_num, activation='softmax'))\n",
        "\n",
        "loss = keras.losses.categorical_crossentropy\n",
        "optimizer = keras.optimizers.Adam(lr=0.001, beta_1=0.9, beta_2=0.999)\n",
        "model.compile(loss=loss, optimizer=optimizer, metrics=['accuracy'])\n",
        "\n",
        "# modelを学習する\n",
        "model.fit(train_imgs, train_lbls,\n",
        "    batch_size=batch_size,\n",
        "    epochs=epochs,\n",
        "    verbose=1,\n",
        "    validation_data=(validation_imgs, validation_lbls))\n",
        "\n",
        "# modelを評価する\n",
        "train_score = model.evaluate(train_imgs, train_lbls)\n",
        "validation_score = model.evaluate(validation_imgs, validation_lbls)\n",
        "print('Train loss :', train_score[0])\n",
        "print('Train accuracy :', train_score[1])\n",
        "print('validation loss :', validation_score[0])\n",
        "print('validation accuracy :', validation_score[1])"
      ],
      "execution_count": 33,
      "outputs": [
        {
          "output_type": "stream",
          "text": [
            "/usr/local/lib/python3.7/dist-packages/tensorflow/python/keras/optimizer_v2/optimizer_v2.py:375: UserWarning: The `lr` argument is deprecated, use `learning_rate` instead.\n",
            "  \"The `lr` argument is deprecated, use `learning_rate` instead.\")\n"
          ],
          "name": "stderr"
        },
        {
          "output_type": "stream",
          "text": [
            "Epoch 1/5\n",
            "375/375 [==============================] - 42s 111ms/step - loss: 0.5494 - accuracy: 0.8310 - val_loss: 0.1955 - val_accuracy: 0.9412\n",
            "Epoch 2/5\n",
            "375/375 [==============================] - 41s 110ms/step - loss: 0.2011 - accuracy: 0.9379 - val_loss: 0.1257 - val_accuracy: 0.9617\n",
            "Epoch 3/5\n",
            "375/375 [==============================] - 41s 110ms/step - loss: 0.1360 - accuracy: 0.9582 - val_loss: 0.0921 - val_accuracy: 0.9719\n",
            "Epoch 4/5\n",
            "375/375 [==============================] - 41s 110ms/step - loss: 0.1033 - accuracy: 0.9678 - val_loss: 0.0785 - val_accuracy: 0.9762\n",
            "Epoch 5/5\n",
            "375/375 [==============================] - 41s 110ms/step - loss: 0.0845 - accuracy: 0.9747 - val_loss: 0.0696 - val_accuracy: 0.9793\n",
            "1500/1500 [==============================] - 15s 10ms/step - loss: 0.0404 - accuracy: 0.9893\n",
            "375/375 [==============================] - 4s 10ms/step - loss: 0.0696 - accuracy: 0.9793\n",
            "Train loss : 0.0404328778386116\n",
            "Train accuracy : 0.9893125295639038\n",
            "validation loss : 0.06958971172571182\n",
            "validation accuracy : 0.9792500138282776\n"
          ],
          "name": "stdout"
        }
      ]
    },
    {
      "cell_type": "code",
      "metadata": {
        "id": "GB7O6jVBDe5X",
        "outputId": "810d6b53-c879-4a9c-e73d-1d4a37ea6aed",
        "colab": {
          "base_uri": "https://localhost:8080/"
        }
      },
      "source": [
        "# モデルの構造\n",
        "model.summary()"
      ],
      "execution_count": 68,
      "outputs": [
        {
          "output_type": "stream",
          "text": [
            "Model: \"sequential\"\n",
            "_________________________________________________________________\n",
            "Layer (type)                 Output Shape              Param #   \n",
            "=================================================================\n",
            "conv2d (Conv2D)              (None, 26, 26, 32)        320       \n",
            "_________________________________________________________________\n",
            "max_pooling2d (MaxPooling2D) (None, 13, 13, 32)        0         \n",
            "_________________________________________________________________\n",
            "dropout (Dropout)            (None, 13, 13, 32)        0         \n",
            "_________________________________________________________________\n",
            "conv2d_1 (Conv2D)            (None, 11, 11, 64)        18496     \n",
            "_________________________________________________________________\n",
            "max_pooling2d_1 (MaxPooling2 (None, 5, 5, 64)          0         \n",
            "_________________________________________________________________\n",
            "dropout_1 (Dropout)          (None, 5, 5, 64)          0         \n",
            "_________________________________________________________________\n",
            "flatten (Flatten)            (None, 1600)              0         \n",
            "_________________________________________________________________\n",
            "dense (Dense)                (None, 128)               204928    \n",
            "_________________________________________________________________\n",
            "dense_1 (Dense)              (None, 10)                1290      \n",
            "=================================================================\n",
            "Total params: 225,034\n",
            "Trainable params: 225,034\n",
            "Non-trainable params: 0\n",
            "_________________________________________________________________\n"
          ],
          "name": "stdout"
        }
      ]
    },
    {
      "cell_type": "markdown",
      "metadata": {
        "id": "4MC1QKyRa37s"
      },
      "source": [
        "# 識別結果の出力"
      ]
    },
    {
      "cell_type": "code",
      "metadata": {
        "id": "qieQM66v6rtH"
      },
      "source": [
        "class TestPreprocessor(object):\n",
        "    def transform(self, imgs):\n",
        "        imgs = self._convert_imgs_dtypes(imgs)\n",
        "        imgs = self._convert_imgs_shape(imgs)\n",
        "        imgs = self._normalize(imgs)\n",
        "        return imgs\n",
        "\n",
        "    def _convert_imgs_dtypes(self, imgs):\n",
        "        _imgs = imgs.astype('float32')\n",
        "        return _imgs\n",
        "    \n",
        "    def _convert_imgs_shape(self, imgs):\n",
        "        _imgs = imgs[...,np.newaxis]\n",
        "        return _imgs\n",
        "\n",
        "    def _normalize(self, imgs):\n",
        "        _imgs = imgs / 255.0\n",
        "        return _imgs"
      ],
      "execution_count": 124,
      "outputs": []
    },
    {
      "cell_type": "code",
      "metadata": {
        "id": "fWd5Wa5Lc4ee"
      },
      "source": [
        "# テストデータを読み込んで、前処理後、作成したモデルで予測\n",
        "test_imgs = np.load(\"/content/drive/MyDrive/九工大/研究室/DataScience/CrushedCharactersIdentification/data/input/kmnist-test-imgs.npz\")['arr_0']\n",
        "test_imgs = TestPreprocessor().transform(test_imgs)\n",
        "predict_lbls = model.predict(test_imgs)\n",
        "predict_lbls = np.argmax(predict_lbls, axis=1)"
      ],
      "execution_count": 125,
      "outputs": []
    },
    {
      "cell_type": "code",
      "metadata": {
        "id": "GtMFMKQGF-fs",
        "outputId": "dd1d89e0-5405-4973-e5d9-5e51ad11de59",
        "colab": {
          "base_uri": "https://localhost:8080/",
          "height": 235
        }
      },
      "source": [
        "# 予測結果を指定フォーマットに整形\n",
        "import pandas as pd\n",
        "df = pd.DataFrame(predict_lbls, columns=['Label'])\n",
        "df.index.name = 'ImageId'\n",
        "df.index = df.index + 1\n",
        "df.head()"
      ],
      "execution_count": 126,
      "outputs": [
        {
          "output_type": "execute_result",
          "data": {
            "text/html": [
              "<div>\n",
              "<style scoped>\n",
              "    .dataframe tbody tr th:only-of-type {\n",
              "        vertical-align: middle;\n",
              "    }\n",
              "\n",
              "    .dataframe tbody tr th {\n",
              "        vertical-align: top;\n",
              "    }\n",
              "\n",
              "    .dataframe thead th {\n",
              "        text-align: right;\n",
              "    }\n",
              "</style>\n",
              "<table border=\"1\" class=\"dataframe\">\n",
              "  <thead>\n",
              "    <tr style=\"text-align: right;\">\n",
              "      <th></th>\n",
              "      <th>Label</th>\n",
              "    </tr>\n",
              "    <tr>\n",
              "      <th>ImageId</th>\n",
              "      <th></th>\n",
              "    </tr>\n",
              "  </thead>\n",
              "  <tbody>\n",
              "    <tr>\n",
              "      <th>1</th>\n",
              "      <td>2</td>\n",
              "    </tr>\n",
              "    <tr>\n",
              "      <th>2</th>\n",
              "      <td>9</td>\n",
              "    </tr>\n",
              "    <tr>\n",
              "      <th>3</th>\n",
              "      <td>3</td>\n",
              "    </tr>\n",
              "    <tr>\n",
              "      <th>4</th>\n",
              "      <td>8</td>\n",
              "    </tr>\n",
              "    <tr>\n",
              "      <th>5</th>\n",
              "      <td>3</td>\n",
              "    </tr>\n",
              "  </tbody>\n",
              "</table>\n",
              "</div>"
            ],
            "text/plain": [
              "         Label\n",
              "ImageId       \n",
              "1            2\n",
              "2            9\n",
              "3            3\n",
              "4            8\n",
              "5            3"
            ]
          },
          "metadata": {
            "tags": []
          },
          "execution_count": 126
        }
      ]
    },
    {
      "cell_type": "code",
      "metadata": {
        "id": "hiqQxxjvSXf5"
      },
      "source": [
        "# 整形した予測データをcsvファイルに出力\n",
        "df.to_csv('/content/drive/MyDrive/九工大/研究室/DataScience/CrushedCharactersIdentification/data/output/predict.csv', float_format='%.5f')"
      ],
      "execution_count": null,
      "outputs": []
    },
    {
      "cell_type": "markdown",
      "metadata": {
        "id": "Uy4n1lGmatp5"
      },
      "source": [
        "# 誤識別したデータの確認"
      ]
    },
    {
      "cell_type": "code",
      "metadata": {
        "id": "twLgy56Ma2KE"
      },
      "source": [
        "class MisclassifiedDataPlotter(object):\n",
        "    \"\"\"\n",
        "    このクラスへの入力はpreprocess処理済みのデータを仮定する．\n",
        "    \"\"\"\n",
        "    def __init__(self):\n",
        "        self.label_char = [\"お(o)\", \"き(ki)\", \"す(su)\", \"つ(tsu)\",\\\n",
        "        \"な(na)\", \"は(ha)\", \"ま(ma)\", \"や(ya)\",\\\n",
        "        \"れ(re)\", \"を(wo)\"]\n",
        "        plt.rcParams['font.family'] = 'IPAPGothic'\n",
        "\n",
        "    def _convert_onehot2intvec(self, labels):\n",
        "        labels_int_vec = np.argmax(labels, axis=1)\n",
        "        return labels_int_vec\n",
        "\n",
        "    def _get_mixclassified_idx_list(self, labels_intvec, pred_labels_intvec):\n",
        "        misclassified = labels_intvec != pred_labels_intvec\n",
        "        mis_idxs_list = np.where(misclassified == True)[0]\n",
        "\n",
        "        return mis_idxs_list\n",
        "\n",
        "    def plot(self, images, labels, pred_labels, plot_num: int=5):\n",
        "        \"\"\"\n",
        "        >>> images.shape\n",
        "        (10000, 28, 28, 1)\n",
        "\n",
        "        >>> labels\n",
        "        array([[0., 0., 1., ..., 0., 0., 0.],\n",
        "        ...,\n",
        "        [0., 0., 1., ..., 0., 0., 0.]], dtype=float32)\n",
        "\n",
        "        >>> pred_labels\n",
        "        array([[2.8434190e-06, 4.1375683e-06, 9.9899501e-01, ..., 3.7393205e-05,\n",
        "        2.5519948e-05, 3.0874473e-04],\n",
        "        ...,\n",
        "        [4.1747628e-09, 1.8852282e-07, 9.9982470e-01, ..., 1.4897050e-07,\n",
        "        7.9116326e-05, 3.7392081e-05]], dtype=float32)\n",
        "        \"\"\"\n",
        "        labels_intvec = self._convert_onehot2intvec(labels)\n",
        "        pred_labels_intvec = self._convert_onehot2intvec(pred_labels)\n",
        "\n",
        "        mis_idxs_list = self._get_mixclassified_idx_list(labels_intvec, pred_labels_intvec)\n",
        "        random_idx_list = list(np.random.choice(mis_idxs_list, size=plot_num, replace=False))\n",
        "\n",
        "        fig = plt.figure()\n",
        "        for i, idx in enumerate(random_idx_list):\n",
        "            ax = fig.add_subplot(1, plot_num, i+1)\n",
        "            ax.tick_params(labelbottom=False, bottom=False)\n",
        "            ax.tick_params(labelleft=False, left=False)\n",
        "            img = images[idx].reshape((28,28)) # (28, 28, 1) -> (28, 28)\n",
        "            ax.imshow(img, cmap='gray')\n",
        "\n",
        "            actual_label = self.label_char[labels_intvec[idx]]\n",
        "            pred_label = self.label_char[pred_labels_intvec[idx]]\n",
        "            ax.set_title(f\"{pred_label} : actual {actual_label}\")\n",
        "        fig.show()"
      ],
      "execution_count": 103,
      "outputs": []
    },
    {
      "cell_type": "code",
      "metadata": {
        "id": "6iE7e4_NNdQp",
        "outputId": "d87fda52-b7fa-4d0d-efa4-0d4dd056abff",
        "colab": {
          "base_uri": "https://localhost:8080/",
          "height": 134
        }
      },
      "source": [
        "prediction = model.predict(validation_imgs) # このmodelは上で作成したkerasのCNNです．\n",
        "\n",
        "mis_plotter = MisclassifiedDataPlotter()\n",
        "mis_plotter.plot(validation_imgs, validation_lbls, prediction, plot_num=５)"
      ],
      "execution_count": 120,
      "outputs": [
        {
          "output_type": "error",
          "ename": "SyntaxError",
          "evalue": "ignored",
          "traceback": [
            "\u001b[0;36m  File \u001b[0;32m\"<ipython-input-120-9518ee96d247>\"\u001b[0;36m, line \u001b[0;32m4\u001b[0m\n\u001b[0;31m    mis_plotter.plot(validation_imgs, validation_lbls, prediction, plot_num=５)\u001b[0m\n\u001b[0m                                                                            ^\u001b[0m\n\u001b[0;31mSyntaxError\u001b[0m\u001b[0;31m:\u001b[0m invalid character in identifier\n"
          ]
        }
      ]
    },
    {
      "cell_type": "code",
      "metadata": {
        "id": "AU9dhVU8SkkZ"
      },
      "source": [
        ""
      ],
      "execution_count": null,
      "outputs": []
    }
  ]
}